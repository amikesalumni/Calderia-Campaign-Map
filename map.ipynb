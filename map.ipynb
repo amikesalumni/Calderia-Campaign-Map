{
 "cells": [
  {
   "cell_type": "code",
   "execution_count": 36,
   "metadata": {},
   "outputs": [],
   "source": [
    "myline = []\n",
    "with open('pathtest.txt') as f:\n",
    "    for line in f:\n",
    "        myline.append(line)\n",
    "f.close()\n",
    "with open('out.txt','w') as output:\n",
    "    for i in range(len(myline)):\n",
    "        if i>10:\n",
    "            output.write('['+str(myline[i][13:28])+'],')\n",
    "output.close()"
   ]
  }
 ],
 "metadata": {
  "interpreter": {
   "hash": "f2575392019334285e0602a4035eec46b9260ee4c95297ea34ade6e3c8b8fcaf"
  },
  "kernelspec": {
   "display_name": "Python 3.8.10 64-bit",
   "language": "python",
   "name": "python3"
  },
  "language_info": {
   "codemirror_mode": {
    "name": "ipython",
    "version": 3
   },
   "file_extension": ".py",
   "mimetype": "text/x-python",
   "name": "python",
   "nbconvert_exporter": "python",
   "pygments_lexer": "ipython3",
   "version": "3.8.10"
  },
  "orig_nbformat": 4
 },
 "nbformat": 4,
 "nbformat_minor": 2
}
